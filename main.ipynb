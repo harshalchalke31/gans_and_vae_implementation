{
 "cells": [
  {
   "cell_type": "markdown",
   "metadata": {},
   "source": [
    "## Import Dependencies"
   ]
  },
  {
   "cell_type": "code",
   "execution_count": 6,
   "metadata": {},
   "outputs": [],
   "source": [
    "import torch\n",
    "from simple_gan import Generator,Discriminator\n",
    "import torch.optim as optim\n",
    "import torchvision.datasets as datasets\n",
    "from torch.utils.data import DataLoader\n",
    "import torchvision.transforms as transforms\n",
    "import torch.nn as nn\n",
    "from torch.utils.tensorboard import SummaryWriter"
   ]
  },
  {
   "cell_type": "markdown",
   "metadata": {},
   "source": [
    "## Setup hyperparams"
   ]
  },
  {
   "cell_type": "code",
   "execution_count": 2,
   "metadata": {},
   "outputs": [],
   "source": [
    "# Initial GANs are sensitive to Hyperparams\n",
    "# Hyperparameters\n",
    "device = \"cuda\" if torch.cuda.is_available() else \"cpu\"\n",
    "lr = 3e-4  # best lr for Adam given by andrew karpathy\n",
    "z_dimension = 64 #128,256\n",
    "image_dim = 28*28*1\n",
    "batch_size = 32\n",
    "num_epochs = 50"
   ]
  },
  {
   "cell_type": "markdown",
   "metadata": {},
   "source": [
    "## Initialize GAN and setup Dataset"
   ]
  },
  {
   "cell_type": "code",
   "execution_count": 4,
   "metadata": {},
   "outputs": [],
   "source": [
    "# Initialize Generator and Discriminator\n",
    "discriminator = Discriminator(image_dimension=image_dim).to(device=device)\n",
    "generator = Generator(z_dimension=z_dimension,image_dimension=image_dim).to(device=device)\n",
    "fixed_noise = torch.randn((batch_size,z_dimension)).to(device=device)\n",
    "transform = transforms.Compose([\n",
    "    transforms.ToTensor(),\n",
    "    transforms.Normalize((0.1307,),(0.3081,))  # Actual mean and std for MNIST Dataset\n",
    "])\n",
    "dataset = datasets.MNIST(root='./data/',transform=transform,download=True)\n",
    "loader = DataLoader(dataset=dataset,batch_size=batch_size,shuffle=True)\n",
    "optim_disc = optim.Adam(discriminator.parameters(),lr=lr)\n",
    "optim_gen = optim.Adam(generator.parameters(),lr=lr)\n",
    "criterion = nn.BCELoss()\n"
   ]
  },
  {
   "cell_type": "code",
   "execution_count": 7,
   "metadata": {},
   "outputs": [],
   "source": [
    "writer_fake = SummaryWriter(log_dir=f'./runs/GAN_MNIST/fake')  # fake images\n",
    "writer_real = SummaryWriter(log_dir=f'./runs/GAN_MNIST/real')  # real images\n",
    "step = 0"
   ]
  }
 ],
 "metadata": {
  "kernelspec": {
   "display_name": "practicevenv",
   "language": "python",
   "name": "python3"
  },
  "language_info": {
   "codemirror_mode": {
    "name": "ipython",
    "version": 3
   },
   "file_extension": ".py",
   "mimetype": "text/x-python",
   "name": "python",
   "nbconvert_exporter": "python",
   "pygments_lexer": "ipython3",
   "version": "3.12.3"
  }
 },
 "nbformat": 4,
 "nbformat_minor": 2
}
