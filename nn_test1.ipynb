{
 "cells": [
  {
   "cell_type": "code",
   "execution_count": 1,
   "metadata": {},
   "outputs": [
    {
     "name": "stdout",
     "output_type": "stream",
     "text": [
      "2.4.1+cu118\n",
      "True\n",
      "NVIDIA GeForce GTX 1650\n"
     ]
    }
   ],
   "source": [
    "import torch\n",
    "print(torch.__version__)               # To check PyTorch version\n",
    "print(torch.cuda.is_available())       # To verify if CUDA is available\n",
    "print(torch.cuda.get_device_name(0))   # To print the name of your GPU\n",
    "from torch.utils.data import TensorDataset,DataLoader\n",
    "from sklearn.datasets import load_wine\n",
    "from sklearn.model_selection import train_test_split\n",
    "from torch.nn import Sequential,Linear,ReLU,CrossEntropyLoss\n",
    "import torch.nn.functional as F"
   ]
  },
  {
   "cell_type": "markdown",
   "metadata": {},
   "source": [
    "### Solving Wine Quality classification using simple nn, with three hidden layers, adam optimizer and cross entropy loss function"
   ]
  },
  {
   "cell_type": "markdown",
   "metadata": {},
   "source": [
    "#### Prepare dataset"
   ]
  },
  {
   "cell_type": "code",
   "execution_count": 2,
   "metadata": {},
   "outputs": [],
   "source": [
    "wine_data= load_wine()\n",
    "X,y = wine_data.data,wine_data.target\n",
    "\n",
    "# train-test-split\n",
    "X_train, X_test, y_train, y_test = train_test_split(X,y,test_size = 0.2, random_state = 42)\n",
    "\n",
    "\n",
    "\n",
    "X_train = torch.tensor(X_train,dtype=torch.float32)\n",
    "X_test = torch.tensor(X_test,dtype=torch.float32)\n",
    "y_train = torch.tensor(y_train,dtype=torch.long)\n",
    "y_test = torch.tensor(y_test,dtype=torch.long)\n",
    "\n",
    "train_data = TensorDataset(X_train,y_train)\n",
    "test_data  = TensorDataset(X_test,y_test)\n",
    "\n",
    "train_data_loader = DataLoader(train_data,batch_size=32,shuffle=True)\n",
    "test_data_loader = DataLoader(test_data,batch_size=32,shuffle=True)\n"
   ]
  },
  {
   "cell_type": "markdown",
   "metadata": {},
   "source": [
    "#### Creating model"
   ]
  },
  {
   "cell_type": "code",
   "execution_count": 3,
   "metadata": {},
   "outputs": [],
   "source": [
    "model = Sequential(\n",
    "    Linear(13,64),\n",
    "    ReLU(),\n",
    "    Linear(64,32),\n",
    "    ReLU(),\n",
    "    Linear(32,16),\n",
    "    ReLU(),\n",
    "    Linear(16,3)\n",
    "\n",
    ")\n",
    "\n",
    "loss_function = CrossEntropyLoss()\n",
    "optimizer = torch.optim.Adam(model.parameters(),lr=1e-3)\n",
    "num_epochs = 100"
   ]
  },
  {
   "cell_type": "markdown",
   "metadata": {},
   "source": [
    "#### Training the model"
   ]
  },
  {
   "cell_type": "code",
   "execution_count": 4,
   "metadata": {},
   "outputs": [],
   "source": [
    "def fit(num_epochs, model, loss_function, optimizer, data):\n",
    "\n",
    "    for epoch in range(num_epochs):\n",
    "        model.train() # this is to set the model to training mode\n",
    "        running_loss = 0.0\n",
    "        for input,label in data:\n",
    "            optimizer.zero_grad() # clear gradients before computations\n",
    "\n",
    "            output = model(input) # forward pass\n",
    "\n",
    "            loss = loss_function(output,label) # compute loss\n",
    "            loss.backward() # backward pass (backpropagation, computing gradients of losses wrt weights and biases, each)\n",
    "            optimizer.step() # update weights and biases\n",
    "\n",
    "            running_loss += loss.item()\n",
    "            \n",
    "        if (epoch+1)%10 == 0: \n",
    "            print(f\"Epoch [{epoch + 1}/{num_epochs}], Loss: {running_loss / len(data):.4f}\")\n",
    "\n",
    "\n"
   ]
  },
  {
   "cell_type": "code",
   "execution_count": 5,
   "metadata": {},
   "outputs": [
    {
     "name": "stdout",
     "output_type": "stream",
     "text": [
      "Epoch [10/100], Loss: 0.8297\n",
      "Epoch [20/100], Loss: 0.6965\n",
      "Epoch [30/100], Loss: 0.6732\n",
      "Epoch [40/100], Loss: 0.6264\n",
      "Epoch [50/100], Loss: 0.5892\n",
      "Epoch [60/100], Loss: 0.5343\n",
      "Epoch [70/100], Loss: 0.5656\n",
      "Epoch [80/100], Loss: 0.4880\n",
      "Epoch [90/100], Loss: 0.3979\n",
      "Epoch [100/100], Loss: 0.3292\n"
     ]
    }
   ],
   "source": [
    "fit(num_epochs,model,loss_function,optimizer,train_data_loader)"
   ]
  },
  {
   "cell_type": "markdown",
   "metadata": {},
   "source": [
    "#### Testing the model"
   ]
  },
  {
   "cell_type": "code",
   "execution_count": 6,
   "metadata": {},
   "outputs": [
    {
     "data": {
      "text/plain": [
       "88.88888888888889"
      ]
     },
     "execution_count": 6,
     "metadata": {},
     "output_type": "execute_result"
    }
   ],
   "source": [
    "def evaluate(model,data):\n",
    "    model.eval()  # set the model to evaluation mode\n",
    "    correct = 0\n",
    "    total = 0\n",
    "    with torch.no_grad():\n",
    "        for input,label in data:\n",
    "            output = model(input)\n",
    "            _, predicted = torch.max(output.data, 1)\n",
    "            total += label.size(0)\n",
    "            correct +=(predicted == label).sum().item()\n",
    "    accuracy  = 100 *correct/total\n",
    "    return accuracy\n",
    "\n",
    "evaluate(model,test_data_loader)"
   ]
  }
 ],
 "metadata": {
  "kernelspec": {
   "display_name": "practicevenv",
   "language": "python",
   "name": "python3"
  },
  "language_info": {
   "codemirror_mode": {
    "name": "ipython",
    "version": 3
   },
   "file_extension": ".py",
   "mimetype": "text/x-python",
   "name": "python",
   "nbconvert_exporter": "python",
   "pygments_lexer": "ipython3",
   "version": "3.12.3"
  }
 },
 "nbformat": 4,
 "nbformat_minor": 2
}
